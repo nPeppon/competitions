{
 "cells": [
  {
   "cell_type": "code",
   "execution_count": 134,
   "metadata": {},
   "outputs": [],
   "source": [
    "import numpy as np\n",
    "from operator import attrgetter\n"
   ]
  },
  {
   "cell_type": "code",
   "execution_count": 181,
   "metadata": {},
   "outputs": [],
   "source": [
    "filenames = ['data/a_solar.txt', \n",
    "             'data/b_dream.txt',\n",
    "             'data/c_soup.txt',\n",
    "             'data/d_maelstrom.txt',\n",
    "             'data/e_igloos.txt', \n",
    "             'data/f_glitch.txt']\n",
    "\n",
    "l = 'a'\n",
    "\n",
    "int_to_letter = {0 : 'a', 1 : 'b', 2 : 'c', 3 : 'd', 4 : 'f', 5 : 'g'}\n",
    "letter_to_int = {'a':0, 'b':1, 'c':2, 'd':3, 'e':4, 'f':5}\n",
    "\n",
    "f = open(filenames[letter_to_int[l]])"
   ]
  },
  {
   "cell_type": "code",
   "execution_count": 182,
   "metadata": {},
   "outputs": [],
   "source": [
    "class Person():\n",
    "    def __init__(self, index, company, bonus):\n",
    "        self.index = index\n",
    "        self.company = company\n",
    "        self.bonus = bonus\n",
    "        self.placed = 0\n",
    "        self.coord = []\n",
    "        \n",
    "    def getScoreWith(self, otherPerson):\n",
    "        if (otherPerson != None and self.company == otherPerson.company) :\n",
    "            return self.bonus * otherPerson.bonus\n",
    "        return 0\n",
    "\n",
    "class Developer(Person):\n",
    "    \n",
    "    def __init__(self, index, company, bonus, skills):\n",
    "        super(Developer, self).__init__(index, company, bonus)\n",
    "        self.skills = skills\n",
    "        self.numSkills = len(skills)\n",
    "    \n",
    "    def getScoreWith(self, otherPerson):\n",
    "        bonus = super().getScoreWith(otherPerson)\n",
    "        if (otherPerson != None and isinstance(otherPerson, Developer)):\n",
    "            numCommonSkills = len(set(self.skills).intersection(otherPerson.skills))\n",
    "            numDifferentSkills = len(self.skills) + len(otherPerson.skills) - 2*numCommonSkills\n",
    "            return bonus + (numCommonSkills*numDifferentSkills)\n",
    "        return bonus\n",
    "        \n",
    "class ProjectManager(Person):\n",
    "     def __init__(self, index, company, bonus):\n",
    "        super(ProjectManager, self).__init__(index, company, bonus)\n",
    "\n",
    "def convertCharForMap(char):\n",
    "    if (char == '#'):\n",
    "        return 0\n",
    "    elif (char == '_'):\n",
    "        return 1\n",
    "    else:\n",
    "        return 2\n",
    "    \n",
    "def getBestForArg(listToChoseIn, other = None):\n",
    "    bestPer = None\n",
    "    if other != None:\n",
    "        max_score = 0\n",
    "        for per in listToChoseIn:\n",
    "            if per.placed == 0:\n",
    "                score = per.getScoreWith(other)\n",
    "                if score > max_score:\n",
    "                    max_score = score\n",
    "                    bestPer = per\n",
    "    return bestPer, max_score\n",
    "     \n",
    "def getBest(listToChoseIn, upperNei = None, leftNei = None):\n",
    "    bestPer = None\n",
    "    if upperNei != None or leftNei != None:\n",
    "        max_score = 0\n",
    "        for per in listToChoseIn:\n",
    "            if per.placed == 0:\n",
    "                score = per.getScoreWith(upperNei)\n",
    "                score += per.getScoreWith(leftNei)\n",
    "                if score > max_score:\n",
    "                    max_score = score\n",
    "                    bestPer = per\n",
    "        if bestPer != None:\n",
    "            bestPer.placed = 1\n",
    "    return bestPer\n",
    "\n",
    "def getBestDev(list_of_dev, upperNei = None, leftNei = None):\n",
    "    if len(list_of_dev) > 0:\n",
    "        choosen = getBest(list_of_dev, upperNei, leftNei)\n",
    "        if choosen == None:\n",
    "            choosen = max(list_of_dev, key=attrgetter('numSkills'))\n",
    "            choosen.placed = 1\n",
    "        list_of_dev.remove(choosen)\n",
    "        return choosen\n",
    "    return None\n",
    "\n",
    "def getBestMan(list_of_managers, upperNei = None, leftNei = None):\n",
    "    if len(list_of_managers) > 0:\n",
    "        choosen = getBest(list_of_managers, upperNei, leftNei)\n",
    "        if choosen == None:\n",
    "            choosen = max(list_of_managers, key=attrgetter('bonus'))\n",
    "            choosen.placed = 1\n",
    "        list_of_managers.remove(choosen)\n",
    "        return choosen\n",
    "    return None"
   ]
  },
  {
   "cell_type": "code",
   "execution_count": 183,
   "metadata": {},
   "outputs": [
    {
     "name": "stdout",
     "output_type": "stream",
     "text": [
      "Reading first line\n"
     ]
    }
   ],
   "source": [
    "#Parse input file\n",
    "print('Reading first line')\n",
    "line = f.readline()\n",
    "W = int(line.split(' ')[0])\n",
    "H = int(line.split(' ')[1])"
   ]
  },
  {
   "cell_type": "code",
   "execution_count": 184,
   "metadata": {},
   "outputs": [],
   "source": [
    "office_map = np.zeros((H,W))"
   ]
  },
  {
   "cell_type": "code",
   "execution_count": 185,
   "metadata": {},
   "outputs": [],
   "source": [
    "for h in range(H):\n",
    "    line = f.readline()\n",
    "    for w in range(W):\n",
    "        office_map[h,w] = convertCharForMap(line[w])\n"
   ]
  },
  {
   "cell_type": "code",
   "execution_count": 186,
   "metadata": {},
   "outputs": [],
   "source": [
    "companies = {}"
   ]
  },
  {
   "cell_type": "code",
   "execution_count": 188,
   "metadata": {},
   "outputs": [],
   "source": [
    "# Developers\n",
    "line = f.readline()\n",
    "D = int(line)\n",
    "developers = []\n",
    "for d in range(D):\n",
    "    line = f.readline()\n",
    "    lineSplit = line.split(' ')\n",
    "    company = lineSplit[0]\n",
    "    bonus = int(lineSplit[1])\n",
    "    numSkills = int(lineSplit[2])\n",
    "    skills = []\n",
    "    for i in range(3, numSkills + 3):\n",
    "        skills.append(lineSplit[i])\n",
    "    developers.append(Developer(d, company, bonus, skills))"
   ]
  },
  {
   "cell_type": "code",
   "execution_count": 189,
   "metadata": {},
   "outputs": [],
   "source": [
    "# Managers\n",
    "line = f.readline()\n",
    "M = int(line)\n",
    "managers = []\n",
    "for m in range(M):\n",
    "    line = f.readline()\n",
    "    lineSplit = line.split(' ')\n",
    "    company = lineSplit[0]\n",
    "    bonus = int(lineSplit[1])\n",
    "    managers.append(ProjectManager(m, company, bonus))"
   ]
  },
  {
   "cell_type": "code",
   "execution_count": null,
   "metadata": {},
   "outputs": [],
   "source": []
  },
  {
   "cell_type": "code",
   "execution_count": 190,
   "metadata": {},
   "outputs": [
    {
     "name": "stdout",
     "output_type": "stream",
     "text": [
      "0\n"
     ]
    }
   ],
   "source": [
    "out_map = []\n",
    "devsLeft = developers.copy()\n",
    "mansLeft = managers.copy()\n",
    "score = 0\n",
    "for r in range(H):\n",
    "    if (r%10 == 0):\n",
    "        print('r: '+str(r))\n",
    "    out_map.append([])\n",
    "    for c in range(W):\n",
    "        if (c%50 == 0):\n",
    "            print('c: '+str(r))\n",
    "        upperNei = None\n",
    "        leftNei = None\n",
    "        if(r >= 1 and office_map[r-1, c] != 0 and out_map[r-1, c] != 'X'):\n",
    "            upperNei = out_map[r-1][c]\n",
    "        if (c >= 1 and office_map[r, c-1] != 0 and out_map[r, c-1] != 'X'):\n",
    "            leftNei = out_map[r][c-1]\n",
    "        if office_map[r,c] == 1: # Dev\n",
    "            dev = getBestDev(devsLeft, upperNei, leftNei)\n",
    "            if dev != None:\n",
    "                dev.coord = [r,c]\n",
    "                out_map[r].append(dev)\n",
    "                score += dev.getScoreWith(upperNei) + dev.getScoreWith(leftNei)\n",
    "            else:\n",
    "                out_map[r].append('X')\n",
    "        if office_map[r,c] == 2: # Manager\n",
    "            man = getBestMan(mansLeft, upperNei, leftNei)\n",
    "            if man != None:\n",
    "                man.coord = [r,c]\n",
    "                out_map[r].append(man)\n",
    "                score += man.getScoreWith(upperNei) + man.getScoreWith(leftNei)\n",
    "            else:\n",
    "                out_map[r].append('X')\n",
    "        if office_map[r,c] == 0:\n",
    "            out_map[r].append('X')"
   ]
  },
  {
   "cell_type": "code",
   "execution_count": null,
   "metadata": {},
   "outputs": [],
   "source": []
  },
  {
   "cell_type": "code",
   "execution_count": null,
   "metadata": {},
   "outputs": [],
   "source": []
  },
  {
   "cell_type": "code",
   "execution_count": 180,
   "metadata": {},
   "outputs": [],
   "source": [
    "score = 0\n",
    "\n",
    "filename = 'out_'+l+'.txt'\n",
    "with open(filename, 'a') as out:\n",
    "    to_print = ''\n",
    "    for dev in developers:\n",
    "        if dev.placed == 0:\n",
    "            to_print += 'X\\n'\n",
    "        else:\n",
    "            to_print += str(dev.coord[1])+' '+str(dev.coord[0])+'\\n'\n",
    "    for man in managers:\n",
    "        if man.placed == 0:\n",
    "            to_print += 'X\\n'\n",
    "        else:\n",
    "            to_print += str(man.coord[1])+' '+str(man.coord[0])+'\\n'\n",
    "    to_print = to_print[:-1]\n",
    "    print(to_print, file = out)"
   ]
  },
  {
   "cell_type": "code",
   "execution_count": null,
   "metadata": {},
   "outputs": [],
   "source": []
  }
 ],
 "metadata": {
  "kernelspec": {
   "display_name": "Python 3",
   "language": "python",
   "name": "python3"
  },
  "language_info": {
   "codemirror_mode": {
    "name": "ipython",
    "version": 3
   },
   "file_extension": ".py",
   "mimetype": "text/x-python",
   "name": "python",
   "nbconvert_exporter": "python",
   "pygments_lexer": "ipython3",
   "version": "3.7.1"
  }
 },
 "nbformat": 4,
 "nbformat_minor": 2
}
