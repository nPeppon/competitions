#!/usr/bin/env python
# coding: utf-8

# In[89]:


import numpy as np


# In[91]:


class Customer():
        
    def __init__(self,x,y,reward):
        self.x = x
        self.y = y
        self.reward = reward
            
def reward_and_path(x1, y1, cust_coords, rewards, matrix, debug = False):
    paths = []
    total_reward = 0
    for i,coord in enumerate(cust_coord):
        path = ''
        reward = rewards[i]
#         print(reward)
        x = x1
        y = y1
        if debug:print('New ',coord[0],' ',coord[1])
        while x != coord[0] or y != coord[1]:
            x_dir = 0
            if x < coord[0]:
                x_dir = +1
            elif x > coord[0]:
                x_dir = -1
            y_dir = 0
            if y < coord[1]:
                y_dir = +1
            elif y > coord[1]:
                y_dir = -1
            if x+x_dir > matrix.shape[0]-1 or x+x_dir < 0:
                x_dir = 0
            if y+y_dir > matrix.shape[1]-1 or y+y_dir < 0:
                y_dir = 0
            if matrix[x + x_dir,y] == -1:
                x_dir = 0
            if matrix[x, y+y_dir] == -1:
                y_dir = 0
            if x_dir == 0 and y_dir == 0:
                path = ''
                reward = -1
                if debug: print('break')
                break
            elif x_dir != 0 and y_dir == 0:
                x = x + x_dir
                move = 'L' if x_dir == -1 else 'R'
                path += move
                reward -= matrix[x,y]
            elif x_dir == 0 and y_dir != 0:
                y = y + y_dir
                move = 'U' if y_dir == -1 else 'D'
                path += move
                reward -= matrix[x,y]
            else:   
                if matrix[x + x_dir, y] >= matrix[x, y + y_dir]:
                    y = y + y_dir
                    move = 'U' if y_dir == -1 else 'D'
                    path += move
                    reward -= matrix[x,y]
                else:
                    x = x + x_dir
                    move = 'L' if x_dir == -1 else 'R'
                    path += move
                    reward -= matrix[x,y]
            if debug:print(x,y)

        if debug:print(reward)

        if reward > 0:
            paths.append(path)
            total_reward += reward
    return paths, total_reward


# In[ ]:





# In[92]:


filenames = ['1_victoria_lake.txt','2_himalayas.txt','3_budapest.txt','4_manhattan.txt','5_oceania.txt']

k = 0

f = open(filenames[k])


# In[93]:


first_line = f.readline()
first_line = first_line[:-1]
first_line = first_line.split(' ')
N = int(first_line[0])
M = int(first_line[1])
C = int(first_line[2])
R = int(first_line[3])
customers = []
cust_coord = []
rewards = []
for i in range(C):
    line = f.readline()
    line = line[:-1]
    line = line.split(' ')
    customers.append(Customer(int(line[0]),int(line[1]),int(line[2])))
    cust_coord.append((int(line[0]),int(line[1])))
    rewards.append(int(line[2]))


# In[94]:


M


# In[95]:


matrix = np.zeros((M,N))


# In[96]:


for i in range(M):
    line = f.readline()
    line = line[:-1]
    for j in range(N):
        char = line[j]
        if char is '#':
            matrix[i,j] = -1
        elif char is '~':
            matrix[i,j] = 800
        elif char is '*':
            matrix[i,j] = 200
        elif char is '+':
            matrix[i,j] = 150
        elif char is 'X':
            matrix[i,j] = 120
        elif char is '_':
            matrix[i,j] = 100
        elif char is 'H':
            matrix[i,j] = 70
        elif char is 'T':
            matrix[i,j] = 50


# In[97]:


coords_to_check = []
offsets = list(range(-5,6))
for coor in cust_coord:
    for i in offsets:
        for j in offsets:
            new_coord = [coor[0]+i, coor[1]+j]
            if new_coord[0] > 0 and new_coord[0]<M-1 and new_coord[1] > 0 and new_coord[1]<N-1:
                if new_coord not in coords_to_check:
                    coords_to_check.append(new_coord)


# In[98]:


# len(coords_to_check)


# In[ ]:





# In[99]:


best_R_coords = []
best_R_rewards = []
best_R_paths = []
debug = False
short = True
if short:
    for coor in coords_to_check:
        if debug:print(coor)
        i = coor[0]
        j = coor[1]
        if (i,j) not in cust_coord and matrix[i,j] != -1:
            path, rew = reward_and_path(i,j,cust_coord, rewards, matrix)
            if len(best_R_rewards) < R:
                if debug:print(rew)
                if debug:print(path)
                best_R_rewards.append(rew)
                best_R_coords.append([i,j])
                best_R_paths.append(path)
            else:
                if rew > min(best_R_rewards):
                    if debug:print(i,j)
                    if debug:print(rew)
                    if debug:print(path)
                    index = best_R_rewards.index(min(best_R_rewards))
                    del best_R_rewards[index]
                    del best_R_coords[index]
                    del best_R_paths[index]
                    best_R_coords.append([i,j])
                    best_R_paths.append(path)
                    best_R_rewards.append(rew)
else:
    for i in range(M):
        for j in range(N):
            if (i,j) not in cust_coord and matrix[i,j] != -1:
                path, rew = reward_and_path(i,j,cust_coord, rewards, matrix)
                if len(best_R_rewards) < R:
                    if debug:print(rew)
                    if debug:print(path)
                    best_R_rewards.append(rew)
                    best_R_coords.append([i,j])
                    best_R_paths.append(path)
                else:
                    if rew > min(best_R_rewards):
                        if debug:print(i,j)
                        if debug:print(rew)
                        if debug:print(path)
                        index = best_R_rewards.index(min(best_R_rewards))
                        del best_R_rewards[index]
                        del best_R_coords[index]
                        del best_R_paths[index]
                        best_R_coords.append([i,j])
                        best_R_paths.append(path)
                        best_R_rewards.append(rew)

# reward_and_path(0,0,cust_coord, rewards, matrix)


# In[100]:


best_R_coords


# In[101]:


cust_coord


# In[102]:


matrix[36,28]


# In[103]:


best_R_paths


# In[104]:


best_R_rewards


# In[105]:


print(sum(best_R_rewards))


# In[106]:


filename = 'out'+str(k+1)+'_short_new.txt'
with open(filename, 'a') as out:
    to_print = ''
    for i in range(len(best_R_coords)):
        for j in range(len(best_R_paths[i])):
            to_print += str(best_R_coords[i][0])+' '+str(best_R_coords[i][1])+ ' '+ best_R_paths[i][j]+'\n'
    to_print = to_print[:-1]
    print(to_print, file = out, end='')


# In[ ]:





# In[ ]:





# In[ ]:





# In[ ]:





# In[ ]:





# In[ ]:





# In[ ]:





# In[ ]:




