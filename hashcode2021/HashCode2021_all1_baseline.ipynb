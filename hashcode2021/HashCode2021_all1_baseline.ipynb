{
 "cells": [
  {
   "cell_type": "code",
   "execution_count": 2,
   "metadata": {},
   "outputs": [],
   "source": [
    "import sys"
   ]
  },
  {
   "cell_type": "code",
   "execution_count": 3,
   "metadata": {},
   "outputs": [],
   "source": [
    "class Street:\n",
    "    def __init__(self, text):\n",
    "        self.start_intersection, self.end_intersection, self.name, self.time = text.split(' ')\n",
    "\n",
    "\n",
    "class Intersection:\n",
    "    def __init__(self, id):\n",
    "        self.id = id\n",
    "        self.incoming_streets = []\n",
    "\n",
    "    def add_street(self, street):\n",
    "        self.incoming_streets.append(street)\n",
    "\n",
    "\n",
    "class Car:\n",
    "    def __init__(self, text):\n",
    "        self.nbr_streets, *self.text_streets = text.split(' ')\n",
    "\n",
    "\n",
    "def read_file(file_name):\n",
    "    file = open(file_name, \"r\")\n",
    "    lines = [line.rstrip() for line in file.readlines()]\n",
    "    file.close()\n",
    "\n",
    "    instructions = lines.pop(0)\n",
    "\n",
    "    return instructions, lines\n"
   ]
  },
  {
   "cell_type": "code",
   "execution_count": 13,
   "metadata": {},
   "outputs": [],
   "source": [
    "filenames = ['data/a.txt',\n",
    "             'data/b.txt',\n",
    "             'data/c.txt',\n",
    "             'data/d.txt',\n",
    "             'data/e.txt',\n",
    "             'data/f.txt']\n",
    "\n",
    "l = 'f'\n",
    "\n",
    "int_to_letter = {0 : 'a', 1 : 'b', 2 : 'c', 3 : 'd', 4 : 'f', 5 : 'g'}\n",
    "letter_to_int = {'a':0, 'b':1, 'c':2, 'd':3, 'e':4, 'f':5}"
   ]
  },
  {
   "cell_type": "code",
   "execution_count": 14,
   "metadata": {},
   "outputs": [],
   "source": [
    "instructions, lines = read_file(filenames[letter_to_int[l]])\n",
    "\n",
    "duration, intersections_number, streets_number, cars_number, score = instructions.split(' ')\n",
    "\n",
    "streets = []\n",
    "intersections = {}\n",
    "paths = []\n",
    "\n",
    "for i in range(0, int(streets_number)):\n",
    "    line = lines.pop(0)\n",
    "\n",
    "    if not line.split(' ')[1] in intersections.keys():\n",
    "        intersections[line.split(' ')[1]] = Intersection(line.split(' ')[1])\n",
    "        intersections[line.split(' ')[1]].add_street(line.split(' ')[2])\n",
    "    else:\n",
    "        intersections[line.split(' ')[1]].add_street(line.split(' ')[2])\n",
    "    streets.append(Street(line))\n",
    "\n",
    "for i in range(0, int(cars_number)):\n",
    "    paths.append(Car(lines.pop(0)))\n",
    "\n",
    "out_filename = 'out_'+l+'.txt'\n",
    "file = open(out_filename, \"w\")\n",
    "\n",
    "file.write(str(len(intersections.keys())) + \"\\n\")\n",
    "for k, v in intersections.items():\n",
    "    file.write(v.id + \"\\n\")\n",
    "    file.write(str(len(v.incoming_streets)) + \"\\n\")\n",
    "    for street in v.incoming_streets:\n",
    "        file.write(street + \" 1\" + \"\\n\")\n",
    "\n",
    "file.close()"
   ]
  },
  {
   "cell_type": "code",
   "execution_count": null,
   "metadata": {},
   "outputs": [],
   "source": []
  }
 ],
 "metadata": {
  "kernelspec": {
   "display_name": "Python 3",
   "language": "python",
   "name": "python3"
  },
  "language_info": {
   "codemirror_mode": {
    "name": "ipython",
    "version": 3
   },
   "file_extension": ".py",
   "mimetype": "text/x-python",
   "name": "python",
   "nbconvert_exporter": "python",
   "pygments_lexer": "ipython3",
   "version": "3.7.1"
  }
 },
 "nbformat": 4,
 "nbformat_minor": 2
}
