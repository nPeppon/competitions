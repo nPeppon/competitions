{
 "cells": [
  {
   "cell_type": "code",
   "execution_count": 1,
   "metadata": {},
   "outputs": [],
   "source": [
    "import numpy as np"
   ]
  },
  {
   "cell_type": "code",
   "execution_count": 209,
   "metadata": {},
   "outputs": [],
   "source": [
    "filenames = ['data/a_example.txt', 'data/b_read_on.txt','data/c_incunabula.txt','data/d_tough_choices.txt','data/e_so_many_books.txt']\n",
    "\n",
    "k = 1\n",
    "\n",
    "f = open(filenames[k])"
   ]
  },
  {
   "cell_type": "code",
   "execution_count": 210,
   "metadata": {},
   "outputs": [],
   "source": [
    "#Define objects involved\n",
    "class Library():\n",
    "\n",
    "    def __init__(self, index, signup_time, scannable__books_per_day, books_num, score = 1):\n",
    "        self.index = index\n",
    "        self.signup_time = signup_time\n",
    "        self.scannable__books_per_day = scannable__books_per_day\n",
    "        self.books_num = books_num\n",
    "        self.books = []\n",
    "        self.books_to_be_scanned = []\n",
    "        self.score = score\n",
    "        \n",
    "    def addBook(self, book):\n",
    "        self.books.append(book)\n",
    "        self.books_to_be_scanned.append(book)\n",
    "        \n",
    "class Book:\n",
    "    \n",
    "    def __init__(self, index, score):\n",
    "        self.index = index\n",
    "        self.score = score\n"
   ]
  },
  {
   "cell_type": "code",
   "execution_count": 211,
   "metadata": {},
   "outputs": [],
   "source": [
    "#Parse input file\n",
    "print('Reading first line')\n",
    "line = f.readline()\n",
    "books_num = int(line.split(' ')[0])\n",
    "B = books_num\n",
    "libs_num = int(line.split(' ')[1])\n",
    "L = libs_num\n",
    "days_num = int(line.split(' ')[2])\n",
    "D = days_num\n",
    "\n",
    "ALL_BOOKS = {}\n",
    "index_to_book = {}\n",
    "ALL_LIBS = []"
   ]
  },
  {
   "cell_type": "code",
   "execution_count": 212,
   "metadata": {},
   "outputs": [
    {
     "ename": "KeyboardInterrupt",
     "evalue": "",
     "output_type": "error",
     "traceback": [
      "\u001b[1;31m---------------------------------------------------------------------------\u001b[0m",
      "\u001b[1;31mKeyboardInterrupt\u001b[0m                         Traceback (most recent call last)",
      "\u001b[1;32m<ipython-input-212-8fbd11414fc8>\u001b[0m in \u001b[0;36m<module>\u001b[1;34m\u001b[0m\n\u001b[0;32m      1\u001b[0m \u001b[0mline\u001b[0m \u001b[1;33m=\u001b[0m \u001b[0mf\u001b[0m\u001b[1;33m.\u001b[0m\u001b[0mreadline\u001b[0m\u001b[1;33m(\u001b[0m\u001b[1;33m)\u001b[0m\u001b[1;33m\u001b[0m\u001b[1;33m\u001b[0m\u001b[0m\n\u001b[0;32m      2\u001b[0m \u001b[1;32mfor\u001b[0m \u001b[0mi\u001b[0m \u001b[1;32min\u001b[0m \u001b[0mrange\u001b[0m\u001b[1;33m(\u001b[0m\u001b[0mB\u001b[0m\u001b[1;33m)\u001b[0m\u001b[1;33m:\u001b[0m\u001b[1;33m\u001b[0m\u001b[1;33m\u001b[0m\u001b[0m\n\u001b[1;32m----> 3\u001b[1;33m     \u001b[0mtemp_book\u001b[0m \u001b[1;33m=\u001b[0m \u001b[0mBook\u001b[0m\u001b[1;33m(\u001b[0m\u001b[0mi\u001b[0m\u001b[1;33m,\u001b[0m \u001b[0mint\u001b[0m\u001b[1;33m(\u001b[0m\u001b[0mline\u001b[0m\u001b[1;33m.\u001b[0m\u001b[0msplit\u001b[0m\u001b[1;33m(\u001b[0m\u001b[1;34m' '\u001b[0m\u001b[1;33m)\u001b[0m\u001b[1;33m[\u001b[0m\u001b[0mi\u001b[0m\u001b[1;33m]\u001b[0m\u001b[1;33m)\u001b[0m\u001b[1;33m)\u001b[0m\u001b[1;33m\u001b[0m\u001b[1;33m\u001b[0m\u001b[0m\n\u001b[0m\u001b[0;32m      4\u001b[0m     \u001b[0mALL_BOOKS\u001b[0m\u001b[1;33m[\u001b[0m\u001b[0mtemp_book\u001b[0m\u001b[1;33m]\u001b[0m \u001b[1;33m=\u001b[0m \u001b[1;36m0\u001b[0m\u001b[1;33m\u001b[0m\u001b[1;33m\u001b[0m\u001b[0m\n\u001b[0;32m      5\u001b[0m     \u001b[0mindex_to_book\u001b[0m\u001b[1;33m[\u001b[0m\u001b[0mi\u001b[0m\u001b[1;33m]\u001b[0m \u001b[1;33m=\u001b[0m \u001b[0mtemp_book\u001b[0m\u001b[1;33m\u001b[0m\u001b[1;33m\u001b[0m\u001b[0m\n",
      "\u001b[1;31mKeyboardInterrupt\u001b[0m: "
     ]
    }
   ],
   "source": [
    "line = f.readline()\n",
    "print('Reading books:'+str(B))\n",
    "for i in range(B):\n",
    "     if i%1000 == 0:\n",
    "        print(i)\n",
    "    temp_book = Book(i, int(line.split(' ')[i]))\n",
    "    ALL_BOOKS[temp_book] = 0\n",
    "    index_to_book[i] = temp_book"
   ]
  },
  {
   "cell_type": "code",
   "execution_count": null,
   "metadata": {},
   "outputs": [],
   "source": [
    "print('Reading Libraries: '+str(L))\n",
    "\n",
    "for i in range(L):\n",
    "     if i%1000 == 0:\n",
    "        print(i)\n",
    "    line1 = f.readline().split('\\n')[0].split(' ')\n",
    "    temp_lib = Library(i, int(line1[1]), int(line1[2]), int(line1[0]))\n",
    "    line2 = f.readline().split('\\n')[0].split(' ')\n",
    "#     print(line2)\n",
    "#     print(line1[0])\n",
    "    for j in range(int(line1[0])):\n",
    "#         print(j)\n",
    "#         print(line2[j])\n",
    "        temp_lib.addBook(index_to_book[int(line2[j])])\n",
    "    ALL_LIBS.append(temp_lib)"
   ]
  },
  {
   "cell_type": "code",
   "execution_count": null,
   "metadata": {},
   "outputs": [],
   "source": [
    "from operator import attrgetter\n",
    "\n",
    "lista = [Book(1,2),Book(2,2)]\n",
    "bb = max(lista, key=attrgetter('score'))\n",
    "\n",
    "def chooseLibrary(libraries_still_to_sign):\n",
    "    chosenLib = max(libraries_still_to_sign, key=attrgetter('score'))\n",
    "    libraries_still_to_sign.remove(chosenLib)\n",
    "    print(chosenLib.signup_time)\n",
    "    return chosenLib\n",
    "\n",
    "def scanBooks(library, all_books):\n",
    "    scanning_books = []\n",
    "    while len(scanning_books) < library.scannable__books_per_day and len(library.books_to_be_scanned) > 0:\n",
    "        book = max(library.books_to_be_scanned, key=attrgetter('score'))\n",
    "        if ALL_BOOKS[book] == 0:\n",
    "            scanning_books.append(book)\n",
    "            ALL_BOOKS[book] = 1\n",
    "        else:\n",
    "            library.books_to_be_scanned.remove(book)\n",
    "    return scanning_books\n",
    "    "
   ]
  },
  {
   "cell_type": "code",
   "execution_count": null,
   "metadata": {},
   "outputs": [],
   "source": []
  },
  {
   "cell_type": "code",
   "execution_count": null,
   "metadata": {},
   "outputs": [],
   "source": [
    "signup_running = False\n",
    "libraries_ready = []\n",
    "libraries_to_be_signed = ALL_LIBS.copy()\n",
    "books_scanned_per_library = {}\n",
    "current_signup_process_days_remaining = 0\n",
    "library_signing_up = None\n",
    "for d in range(D):\n",
    "    print('Day '+str(d))\n",
    "    if not signup_running and len(libraries_to_be_signed) > 0:\n",
    "        library_signing_up = chooseLibrary(libraries_to_be_signed)\n",
    "        current_signup_process_days_remaining = library_signing_up.signup_time\n",
    "        signup_running = True\n",
    "    \n",
    "    for lib in libraries_ready:\n",
    "        if len(lib.books_to_be_scanned) > 0:\n",
    "            books_scanned_per_library[lib].extend(scanBooks(lib, ALL_BOOKS))\n",
    "    \n",
    "    if signup_running:\n",
    "        current_signup_process_days_remaining-=1\n",
    "        if current_signup_process_days_remaining == 0:\n",
    "            if d != D-1 :\n",
    "                libraries_ready.append(library_signing_up)\n",
    "                books_scanned_per_library[library_signing_up] = []\n",
    "            signup_running = False\n",
    "            library_signing_up = None\n",
    "#     print(libraries_ready)\n",
    "#     print(books_scanned_per_library)"
   ]
  },
  {
   "cell_type": "code",
   "execution_count": null,
   "metadata": {},
   "outputs": [],
   "source": [
    "# books_scanned_per_library"
   ]
  },
  {
   "cell_type": "code",
   "execution_count": null,
   "metadata": {},
   "outputs": [],
   "source": [
    "filename = 'out'+str(k)+'.txt'\n",
    "with open(filename, 'a') as out:\n",
    "    to_print = ''\n",
    "    to_print += str(len(libraries_ready))\n",
    "    for i in range(len(libraries_ready)):\n",
    "        lib = libraries_ready[i]\n",
    "        books_for_lib = books_scanned_per_library[lib]\n",
    "        if len(books_for_lib) > 0:\n",
    "            to_print += '\\n' + str(lib.index) + ' ' + str(len(books_for_lib)) + '\\n'\n",
    "            for j in range(len(books_for_lib)):\n",
    "                to_print += str(books_for_lib[j].index)\n",
    "                if (j==len(books_for_lib)):\n",
    "                    to_print += '\\n'\n",
    "                else:\n",
    "                    to_print += ' '\n",
    "    to_print = to_print[:-1]\n",
    "    print(to_print, file = out)"
   ]
  },
  {
   "cell_type": "code",
   "execution_count": null,
   "metadata": {},
   "outputs": [],
   "source": []
  },
  {
   "cell_type": "code",
   "execution_count": null,
   "metadata": {},
   "outputs": [],
   "source": []
  }
 ],
 "metadata": {
  "kernelspec": {
   "display_name": "Python 3",
   "language": "python",
   "name": "python3"
  },
  "language_info": {
   "codemirror_mode": {
    "name": "ipython",
    "version": 3
   },
   "file_extension": ".py",
   "mimetype": "text/x-python",
   "name": "python",
   "nbconvert_exporter": "python",
   "pygments_lexer": "ipython3",
   "version": "3.7.1"
  }
 },
 "nbformat": 4,
 "nbformat_minor": 2
}
