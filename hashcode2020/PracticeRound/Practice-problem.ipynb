{
 "cells": [
  {
   "cell_type": "code",
   "execution_count": 1,
   "metadata": {},
   "outputs": [],
   "source": [
    "import numpy as np"
   ]
  },
  {
   "cell_type": "code",
   "execution_count": 82,
   "metadata": {},
   "outputs": [],
   "source": [
    "filenames = ['data/a_example.in', 'data/b_small.in','data/c_medium.in','data/d_quite_big.in','data/e_also_big.in']\n",
    "\n",
    "k = 4\n",
    "\n",
    "f = open(filenames[k])"
   ]
  },
  {
   "cell_type": "code",
   "execution_count": 83,
   "metadata": {},
   "outputs": [],
   "source": [
    "first_line = f.readline()\n",
    "max_slices = int(first_line.split(\" \")[0])\n",
    "max_pizzas = int(first_line.split(\" \")[1])\n",
    "\n",
    "second_line = f.readline()\n",
    "pizzas = {}\n",
    "index = 0\n",
    "for slices_of_pizza in second_line.split(\" \"):\n",
    "    pizzas[index] = int(slices_of_pizza)\n",
    "    index+=1"
   ]
  },
  {
   "cell_type": "code",
   "execution_count": 84,
   "metadata": {},
   "outputs": [],
   "source": [
    "# pizzas"
   ]
  },
  {
   "cell_type": "code",
   "execution_count": 85,
   "metadata": {},
   "outputs": [],
   "source": [
    "ordered_pizzas = {k: v for k, v in sorted(pizzas.items(), key=lambda item: item[1], reverse=True)}\n",
    "# ordered_pizzas"
   ]
  },
  {
   "cell_type": "code",
   "execution_count": 86,
   "metadata": {},
   "outputs": [],
   "source": [
    "tot_slices = 0\n",
    "tot_pizzas = 0\n",
    "out_pizzas = []\n",
    "for key,slices in ordered_pizzas.items():\n",
    "    if(tot_pizzas>=max_pizzas):\n",
    "        break\n",
    "    if (tot_slices+slices<max_slices):\n",
    "        out_pizzas.append(key)\n",
    "        tot_pizzas+=1\n",
    "        tot_slices+=slices"
   ]
  },
  {
   "cell_type": "code",
   "execution_count": 87,
   "metadata": {},
   "outputs": [],
   "source": [
    "out_pizzas = sorted(out_pizzas)\n",
    "# out_pizzas"
   ]
  },
  {
   "cell_type": "code",
   "execution_count": 88,
   "metadata": {},
   "outputs": [],
   "source": [
    "filename = 'out'+str(k)+'.txt'\n",
    "with open(filename, 'a') as out:\n",
    "    to_print = ''\n",
    "    to_print += str(tot_pizzas)+'\\n'\n",
    "    for i in range(len(out_pizzas)):\n",
    "        to_print+=str(out_pizzas[i])\n",
    "        if (i==len(out_pizzas)):\n",
    "            to_print+='\\n'\n",
    "        else:\n",
    "            to_print+=' '\n",
    "    to_print = to_print[:-1]\n",
    "    print(to_print, file = out)"
   ]
  },
  {
   "cell_type": "code",
   "execution_count": 89,
   "metadata": {},
   "outputs": [
    {
     "name": "stdout",
     "output_type": "stream",
     "text": [
      "4271\n",
      "505000000\n",
      "504999983\n"
     ]
    }
   ],
   "source": [
    "print(tot_pizzas)\n",
    "print(max_slices)\n",
    "print(tot_slices)"
   ]
  },
  {
   "cell_type": "code",
   "execution_count": null,
   "metadata": {},
   "outputs": [],
   "source": []
  }
 ],
 "metadata": {
  "kernelspec": {
   "display_name": "Python 3",
   "language": "python",
   "name": "python3"
  },
  "language_info": {
   "codemirror_mode": {
    "name": "ipython",
    "version": 3
   },
   "file_extension": ".py",
   "mimetype": "text/x-python",
   "name": "python",
   "nbconvert_exporter": "python",
   "pygments_lexer": "ipython3",
   "version": "3.7.1"
  }
 },
 "nbformat": 4,
 "nbformat_minor": 2
}
