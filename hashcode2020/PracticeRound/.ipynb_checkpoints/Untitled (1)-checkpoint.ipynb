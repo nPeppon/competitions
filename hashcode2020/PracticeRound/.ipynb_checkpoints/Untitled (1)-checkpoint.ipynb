{
 "cells": [
  {
   "cell_type": "code",
   "execution_count": 195,
   "metadata": {},
   "outputs": [],
   "source": [
    "import numpy as np"
   ]
  },
  {
   "cell_type": "code",
   "execution_count": 210,
   "metadata": {},
   "outputs": [],
   "source": [
    "filenames = ['a_example.txt', 'b_lovely_landscapes.txt','c_memorable_moments.txt','d_pet_pictures.txt','e_shiny_selfies.txt']\n",
    "\n",
    "files = []\n",
    "\n",
    "for n in filenames:\n",
    "    files.append(open(n))"
   ]
  },
  {
   "cell_type": "code",
   "execution_count": 211,
   "metadata": {},
   "outputs": [],
   "source": [
    "class Image():\n",
    "    \n",
    "    def __init__(self, typo, tags,ID):\n",
    "        self.typo = typo\n",
    "        self.tags = tags\n",
    "        self.ID=ID\n",
    "        \n",
    "    def update_score(self, score_dict):\n",
    "        score = 0\n",
    "        self.dict_score = {}\n",
    "        for t in self.tags:\n",
    "            self.dict_score[t] = score_dict[t]\n",
    "            score += score_dict[t]\n",
    "        self.score = score\n",
    "        \n",
    "    def get_score(self, len_weigth, tags_score_weigth):\n",
    "        return (len_weigth*len(self.tags) + tags_score_weigth*self.score)\n",
    "\n",
    "class Slide():\n",
    "    \n",
    "    def __init__(self, images):\n",
    "        self.tags = []\n",
    "        if len(images) == 1:\n",
    "            self.tags = images[0].tags\n",
    "            self.score = images[0].score\n",
    "        else:\n",
    "            for im in images:\n",
    "                for t in im.tags:\n",
    "                    if t not in self.tags:\n",
    "                        self.tags.append(t)\n",
    "            self.score = 0\n",
    "            for t in self.tags:\n",
    "                if t in list(images[0].dict_score.keys()):\n",
    "                    self.score += images[0].dict_score[t]\n",
    "                if t in list(images[1].dict_score.keys()):\n",
    "                    self.score += images[1].dict_score[t]\n",
    "        self.images = images\n",
    "        \n",
    "    \n",
    "def score_intra_slides(slide1, slide2):\n",
    "    same = []\n",
    "    just_first = []\n",
    "    just_second = []\n",
    "    tags1 = slide1.tags.copy()\n",
    "    tags2 = slide2.tags.copy()\n",
    "    for t in tags1:\n",
    "        if t in tags2:\n",
    "            same.append(t)\n",
    "            tags1.remove(t)\n",
    "            tags2.remove(t)\n",
    "        else:\n",
    "            just_first.append(t)\n",
    "    n_same = len(same)\n",
    "    n_first = len(just_first)\n",
    "    n_second = len(tags2)\n",
    "    \n",
    "    return min(n_same, n_first, n_second)\n",
    "\n",
    "def score_intra_images(im1, im2):\n",
    "    tags = []\n",
    "    for im in [im1,im2]:\n",
    "        for t in im.tags:\n",
    "            if t not in tags:\n",
    "                tags.append(t)\n",
    "    score = 0\n",
    "    for t in tags:\n",
    "        if t in list(im1.dict_score.keys()):\n",
    "            score += im1.dict_score[t]\n",
    "        if t in list(im2.dict_score.keys()):\n",
    "            score += im2.dict_score[t]\n",
    "    return score"
   ]
  },
  {
   "cell_type": "code",
   "execution_count": 212,
   "metadata": {},
   "outputs": [],
   "source": [
    "images = []\n",
    "k = 0\n",
    "tags_occurences = []\n",
    "tags_score = []\n",
    "\n",
    "for f in files:\n",
    "    tags_score.append({})\n",
    "    tags_occurences.append({})\n",
    "    images.append([])\n",
    "    n_photos = int(f.readline())\n",
    "    for i in range(n_photos):\n",
    "        line = f.readline()\n",
    "        line = line[:-1]\n",
    "        parts = line.split(\" \")\n",
    "        typo = parts[0]\n",
    "        n_tags = int(parts[1])\n",
    "        tags = parts[2:]\n",
    "        for t in tags:\n",
    "            if t in tags_occurences[k]:\n",
    "                tags_occurences[k][t] = tags_occurences[k][t] + 1\n",
    "            else:\n",
    "                tags_occurences[k][t] = 1\n",
    "        images[k].append(Image(typo, tags,i))\n",
    "    for key in list(tags_occurences[k].keys()):\n",
    "        tags_score[k][key] = tags_occurences[k][key]/n_photos\n",
    "        \n",
    "    k += 1"
   ]
  },
  {
   "cell_type": "code",
   "execution_count": 213,
   "metadata": {
    "scrolled": true
   },
   "outputs": [],
   "source": [
    "for k in range(len(images)):\n",
    "    for i in range(len(images[k])):\n",
    "        images[k][i].update_score(tags_score[k])"
   ]
  },
  {
   "cell_type": "code",
   "execution_count": 214,
   "metadata": {},
   "outputs": [],
   "source": [
    "s1 = Slide([images[0][0], images[0][1]])\n",
    "s2 = Slide([images[0][3]])"
   ]
  },
  {
   "cell_type": "code",
   "execution_count": 221,
   "metadata": {},
   "outputs": [
    {
     "data": {
      "text/plain": [
       "'V'"
      ]
     },
     "execution_count": 221,
     "metadata": {},
     "output_type": "execute_result"
    }
   ],
   "source": [
    "len(images)\n",
    "images[0][1].typo"
   ]
  },
  {
   "cell_type": "code",
   "execution_count": null,
   "metadata": {},
   "outputs": [
    {
     "name": "stdout",
     "output_type": "stream",
     "text": [
      "0\n",
      "1\n",
      "2\n",
      "3\n"
     ]
    }
   ],
   "source": [
    "slides = []\n",
    "for k in range(len(images)):\n",
    "    print(k)\n",
    "    actual_images = images[k].copy()\n",
    "    slides.append([])\n",
    "    for im in actual_images:\n",
    "        best_score = 0\n",
    "        best_image = None\n",
    "        if im.typo == 'V':\n",
    "            for im2 in actual_images:\n",
    "                if im2.typo is 'V' and im2 is not im:\n",
    "                    score = score_intra_images(im, im2)\n",
    "                    if score > best_score:\n",
    "                        best_score = score\n",
    "                        best_image = im2\n",
    "            actual_images.remove(im)\n",
    "            actual_images.remove(best_image)\n",
    "            slides[k].append(Slide([im,best_image]))\n",
    "        else:\n",
    "            slides[k].append(Slide([im]))\n"
   ]
  },
  {
   "cell_type": "code",
   "execution_count": null,
   "metadata": {},
   "outputs": [],
   "source": [
    "len(slides)"
   ]
  },
  {
   "cell_type": "code",
   "execution_count": 193,
   "metadata": {},
   "outputs": [
    {
     "ename": "TypeError",
     "evalue": "'Slide' object is not iterable",
     "output_type": "error",
     "traceback": [
      "\u001b[1;31m---------------------------------------------------------------------------\u001b[0m",
      "\u001b[1;31mTypeError\u001b[0m                                 Traceback (most recent call last)",
      "\u001b[1;32m<ipython-input-193-44a92f89c2c0>\u001b[0m in \u001b[0;36m<module>\u001b[1;34m\u001b[0m\n\u001b[0;32m      1\u001b[0m \u001b[0mslideshow\u001b[0m \u001b[1;33m=\u001b[0m \u001b[1;33m[\u001b[0m\u001b[1;33m]\u001b[0m\u001b[1;33m\u001b[0m\u001b[1;33m\u001b[0m\u001b[0m\n\u001b[0;32m      2\u001b[0m \u001b[1;32mfor\u001b[0m \u001b[0mk\u001b[0m \u001b[1;32min\u001b[0m \u001b[0mrange\u001b[0m\u001b[1;33m(\u001b[0m\u001b[0mlen\u001b[0m\u001b[1;33m(\u001b[0m\u001b[0mslides\u001b[0m\u001b[1;33m)\u001b[0m\u001b[1;33m)\u001b[0m\u001b[1;33m:\u001b[0m\u001b[1;33m\u001b[0m\u001b[1;33m\u001b[0m\u001b[0m\n\u001b[1;32m----> 3\u001b[1;33m     \u001b[0mscores\u001b[0m \u001b[1;33m=\u001b[0m \u001b[0mnp\u001b[0m\u001b[1;33m.\u001b[0m\u001b[0marray\u001b[0m\u001b[1;33m(\u001b[0m\u001b[1;33m[\u001b[0m\u001b[0msl\u001b[0m\u001b[1;33m.\u001b[0m\u001b[0mscore\u001b[0m \u001b[1;32mfor\u001b[0m \u001b[0msl\u001b[0m \u001b[1;32min\u001b[0m \u001b[0mslides\u001b[0m\u001b[1;33m[\u001b[0m\u001b[0mk\u001b[0m\u001b[1;33m]\u001b[0m\u001b[1;33m]\u001b[0m\u001b[1;33m)\u001b[0m\u001b[1;33m\u001b[0m\u001b[1;33m\u001b[0m\u001b[0m\n\u001b[0m\u001b[0;32m      4\u001b[0m     \u001b[0mbest\u001b[0m \u001b[1;33m=\u001b[0m \u001b[0mslides\u001b[0m\u001b[1;33m[\u001b[0m\u001b[0mk\u001b[0m\u001b[1;33m]\u001b[0m\u001b[1;33m[\u001b[0m\u001b[0mscores\u001b[0m\u001b[1;33m.\u001b[0m\u001b[0margmax\u001b[0m\u001b[1;33m(\u001b[0m\u001b[1;33m)\u001b[0m\u001b[1;33m]\u001b[0m\u001b[1;33m\u001b[0m\u001b[1;33m\u001b[0m\u001b[0m\n\u001b[0;32m      5\u001b[0m     \u001b[0msorted\u001b[0m\u001b[1;33m(\u001b[0m\u001b[0mslides\u001b[0m\u001b[1;33m[\u001b[0m\u001b[0mk\u001b[0m\u001b[1;33m]\u001b[0m\u001b[1;33m,\u001b[0m \u001b[0mkey\u001b[0m\u001b[1;33m=\u001b[0m\u001b[1;32mlambda\u001b[0m \u001b[0mx\u001b[0m\u001b[1;33m:\u001b[0m \u001b[0mtuple\u001b[0m\u001b[1;33m(\u001b[0m\u001b[0mscores\u001b[0m\u001b[1;33m)\u001b[0m\u001b[1;33m)\u001b[0m\u001b[1;33m\u001b[0m\u001b[1;33m\u001b[0m\u001b[0m\n",
      "\u001b[1;31mTypeError\u001b[0m: 'Slide' object is not iterable"
     ]
    }
   ],
   "source": [
    "slideshow = []\n",
    "for k in range(len(slides)):\n",
    "    slideshow.append([])\n",
    "    temp = slides[k].copy()\n",
    "    scores = np.array([sl.score for sl in temp])\n",
    "    best = temp[scores.argmax()]        \n",
    "    sorted(temp, key=lambda x: tuple(scores))\n",
    "\n",
    "    slideshow[k] = [best]\n",
    "    temp.remove(best)\n",
    "    for sl in temp:\n",
    "        left = score_intra_slides(slideshow[k][0], sl)\n",
    "        right = score_intra_slides(slideshow[k][-1], sl)\n",
    "        if left >= right:\n",
    "            slideshow[k].insert(0, sl)\n",
    "        else:\n",
    "            slideshow[k].append(sl)"
   ]
  },
  {
   "cell_type": "code",
   "execution_count": null,
   "metadata": {},
   "outputs": [],
   "source": []
  },
  {
   "cell_type": "code",
   "execution_count": null,
   "metadata": {},
   "outputs": [],
   "source": []
  },
  {
   "cell_type": "code",
   "execution_count": 190,
   "metadata": {},
   "outputs": [],
   "source": [
    "with open('out0.txt', 'wb') as out:\n",
    "    to_print = ''\n",
    "    to_print += str(len(slideshow))+'\\n'\n",
    "    for sl in slideshow:\n",
    "        if len(sl.images) == 1:\n",
    "            to_print += str(sl.images[0].ID)+'\\n'\n",
    "        else:\n",
    "            for i in range(len(sl.images)):\n",
    "                to_print += str(sl.images[i].ID)\n",
    "                if i != len(sl.images)-1:\n",
    "                    to_print += ' '\n",
    "                else:\n",
    "                    to_print += '\\n'\n",
    "    to_print = to_print[:-1]\n",
    "    print(to_print, file = out)\n",
    "            "
   ]
  },
  {
   "cell_type": "code",
   "execution_count": 191,
   "metadata": {},
   "outputs": [
    {
     "name": "stdout",
     "output_type": "stream",
     "text": [
      "3\n",
      "3\n",
      "0\n",
      "1 2\n"
     ]
    }
   ],
   "source": [
    "print(to_print)"
   ]
  },
  {
   "cell_type": "code",
   "execution_count": null,
   "metadata": {},
   "outputs": [],
   "source": []
  }
 ],
 "metadata": {
  "kernelspec": {
   "display_name": "gpu_venv",
   "language": "python",
   "name": "gpu_venv"
  },
  "language_info": {
   "codemirror_mode": {
    "name": "ipython",
    "version": 3
   },
   "file_extension": ".py",
   "mimetype": "text/x-python",
   "name": "python",
   "nbconvert_exporter": "python",
   "pygments_lexer": "ipython3",
   "version": "3.6.8"
  }
 },
 "nbformat": 4,
 "nbformat_minor": 2
}
