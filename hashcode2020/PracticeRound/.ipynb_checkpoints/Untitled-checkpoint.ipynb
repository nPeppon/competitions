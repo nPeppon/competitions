{
 "cells": [
  {
   "cell_type": "code",
   "execution_count": 2,
   "metadata": {},
   "outputs": [],
   "source": [
    "import numpy as np"
   ]
  },
  {
   "cell_type": "code",
   "execution_count": 3,
   "metadata": {},
   "outputs": [],
   "source": [
    "filenames = ['a_example.txt', 'b_lovely_landscapes.txt','c_memorable_moments.txt','d_pet_pictures.txt','e_shiny_selfies.txt']\n",
    "\n",
    "k = 1\n",
    "\n",
    "f = open(filenames[k])"
   ]
  },
  {
   "cell_type": "code",
   "execution_count": 4,
   "metadata": {},
   "outputs": [],
   "source": [
    "class Image():\n",
    "    \n",
    "    def __init__(self, typo, tags,ID):\n",
    "        self.typo = typo\n",
    "        self.tags = tags\n",
    "        self.ID=ID\n",
    "        \n",
    "    def update_score(self, score_dict):\n",
    "        score = 0\n",
    "        self.dict_score = {}\n",
    "        for t in self.tags:\n",
    "            self.dict_score[t] = score_dict[t]\n",
    "            score += score_dict[t]\n",
    "        self.score = score\n",
    "        \n",
    "    def get_score(self, len_weigth, tags_score_weigth):\n",
    "        return (len_weigth*len(self.tags) + tags_score_weigth*self.score)\n",
    "\n",
    "class Slide():\n",
    "    \n",
    "    def __init__(self, images):\n",
    "        self.tags = []\n",
    "        if len(images) == 1:\n",
    "            self.tags = images[0].tags\n",
    "            self.score = images[0].score\n",
    "        else:\n",
    "            for im in images:\n",
    "                for t in im.tags:\n",
    "                    if t not in self.tags:\n",
    "                        self.tags.append(t)\n",
    "            self.score = 0\n",
    "            for t in self.tags:\n",
    "                if t in list(images[0].dict_score.keys()):\n",
    "                    self.score += images[0].dict_score[t]\n",
    "                if t in list(images[1].dict_score.keys()):\n",
    "                    self.score += images[1].dict_score[t]\n",
    "        self.images = images\n",
    "        \n",
    "    \n",
    "def score_intra_slides(slide1, slide2):\n",
    "    same = []\n",
    "    just_first = []\n",
    "    just_second = []\n",
    "    tags1 = slide1.tags.copy()\n",
    "    tags2 = slide2.tags.copy()\n",
    "    for t in tags1:\n",
    "        if t in tags2:\n",
    "            same.append(t)\n",
    "            tags1.remove(t)\n",
    "            tags2.remove(t)\n",
    "        else:\n",
    "            just_first.append(t)\n",
    "    n_same = len(same)\n",
    "    n_first = len(just_first)\n",
    "    n_second = len(tags2)\n",
    "    \n",
    "    return min(n_same, n_first, n_second)\n",
    "\n",
    "def score_intra_images(im1, im2):\n",
    "    tags = []\n",
    "    for im in [im1,im2]:\n",
    "        for t in im.tags:\n",
    "            if t not in tags:\n",
    "                tags.append(t)\n",
    "    score = 0\n",
    "    for t in tags:\n",
    "        if t in list(im1.dict_score.keys()):\n",
    "            score += im1.dict_score[t]\n",
    "        if t in list(im2.dict_score.keys()):\n",
    "            score += im2.dict_score[t]\n",
    "    return score"
   ]
  },
  {
   "cell_type": "code",
   "execution_count": null,
   "metadata": {},
   "outputs": [
    {
     "name": "stdout",
     "output_type": "stream",
     "text": [
      "0\n",
      "1000\n",
      "2000\n"
     ]
    }
   ],
   "source": [
    "images = []\n",
    "\n",
    "tags_occurences = {}\n",
    "tags_score = {}\n",
    "\n",
    "n_photos = int(f.readline())\n",
    "for i in range(n_photos):\n",
    "    if i % 1000==0:\n",
    "        print(i)\n",
    "    line = f.readline()\n",
    "    line = line[:-1]\n",
    "    parts = line.split(\" \")\n",
    "    typo = parts[0]\n",
    "    n_tags = int(parts[1])\n",
    "    tags = parts[2:]\n",
    "    for t in tags:\n",
    "        if t in list(tags_occurences.keys()):\n",
    "            tags_occurences[t] = tags_occurences[t] + 1\n",
    "        else:\n",
    "            tags_occurences[t] = 1\n",
    "    images.append(Image(typo, tags,i))\n",
    "for key in list(tags_occurences.keys()):\n",
    "    tags_score[key] = tags_occurences[key]/n_photos\n"
   ]
  },
  {
   "cell_type": "code",
   "execution_count": null,
   "metadata": {
    "scrolled": true
   },
   "outputs": [],
   "source": [
    "for i in range(len(images)):\n",
    "    images[i].update_score(tags_score)"
   ]
  },
  {
   "cell_type": "code",
   "execution_count": null,
   "metadata": {},
   "outputs": [],
   "source": [
    "slides = []\n",
    "print(k)\n",
    "actual_images = images.copy()\n",
    "for im in actual_images:\n",
    "    best_score = 0\n",
    "    best_image = None\n",
    "    if im.typo == 'V':\n",
    "        for im2 in actual_images:\n",
    "            if im2.typo is 'V' and im2 is not im:\n",
    "                score = score_intra_images(im, im2)\n",
    "                if score > best_score:\n",
    "                    best_score = score\n",
    "                    best_image = im2\n",
    "        actual_images.remove(im)\n",
    "        actual_images.remove(best_image)\n",
    "        slides.append(Slide([im,best_image]))\n",
    "for im in actual_images:\n",
    "    slides.append(Slide([im]))\n"
   ]
  },
  {
   "cell_type": "code",
   "execution_count": null,
   "metadata": {},
   "outputs": [],
   "source": [
    "temp = slides.copy()\n",
    "scores = np.array([sl.score for sl in temp])\n",
    "best = temp[scores.argmax()]        \n",
    "sorted(temp, key=lambda x: tuple(scores))\n",
    "\n",
    "slideshow = [best]\n",
    "temp.remove(best)\n",
    "for sl in temp:\n",
    "    left = score_intra_slides(slideshow[0], sl)\n",
    "    right = score_intra_slides(slideshow[-1], sl)\n",
    "    if left >= right:\n",
    "        slideshow.insert(0, sl)\n",
    "    else:\n",
    "        slideshow.append(sl)"
   ]
  },
  {
   "cell_type": "code",
   "execution_count": null,
   "metadata": {},
   "outputs": [],
   "source": [
    "filename = 'out'+str(k)+'.txt'\n",
    "with open(filename, 'a') as out:\n",
    "    to_print = ''\n",
    "    to_print += str(len(slideshow))+'\\n'\n",
    "    for sl in slideshow:\n",
    "        if len(sl.images) == 1:\n",
    "            to_print += str(sl.images[0].ID)+'\\n'\n",
    "        else:\n",
    "            for i in range(len(sl.images)):\n",
    "                to_print += str(sl.images[i].ID)\n",
    "                if i != len(sl.images)-1:\n",
    "                    to_print += ' '\n",
    "                else:\n",
    "                    to_print += '\\n'\n",
    "    to_print = to_print[:-1]\n",
    "    print(to_print, file = out)"
   ]
  },
  {
   "cell_type": "code",
   "execution_count": null,
   "metadata": {},
   "outputs": [],
   "source": []
  },
  {
   "cell_type": "code",
   "execution_count": null,
   "metadata": {},
   "outputs": [],
   "source": [
    "\n"
   ]
  },
  {
   "cell_type": "code",
   "execution_count": null,
   "metadata": {},
   "outputs": [],
   "source": [
    "print(to_print)"
   ]
  },
  {
   "cell_type": "code",
   "execution_count": null,
   "metadata": {},
   "outputs": [],
   "source": []
  }
 ],
 "metadata": {
  "kernelspec": {
   "display_name": "gpu_venv",
   "language": "python",
   "name": "gpu_venv"
  },
  "language_info": {
   "codemirror_mode": {
    "name": "ipython",
    "version": 3
   },
   "file_extension": ".py",
   "mimetype": "text/x-python",
   "name": "python",
   "nbconvert_exporter": "python",
   "pygments_lexer": "ipython3",
   "version": "3.6.8"
  }
 },
 "nbformat": 4,
 "nbformat_minor": 2
}
