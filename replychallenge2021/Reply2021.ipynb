{
 "cells": [
  {
   "cell_type": "code",
   "execution_count": 1,
   "metadata": {},
   "outputs": [],
   "source": [
    "import math\n",
    "import numpy as np\n",
    "import os\n",
    "from operator import attrgetter\n",
    "from sklearn.cluster import KMeans"
   ]
  },
  {
   "cell_type": "code",
   "execution_count": 2,
   "metadata": {},
   "outputs": [],
   "source": [
    "letter = 'a'\n",
    "challenge = 'replychallenge2021'\n",
    "radius_threshold = 30"
   ]
  },
  {
   "cell_type": "code",
   "execution_count": 3,
   "metadata": {},
   "outputs": [
    {
     "name": "stdout",
     "output_type": "stream",
     "text": [
      "We are using Jupyter -> relative paths\n"
     ]
    }
   ],
   "source": [
    "filenames = ['data/a.in',\n",
    "             'data/b.in',\n",
    "             'data/c.in',\n",
    "             'data/d.in',\n",
    "             'data/e.in',\n",
    "             'data/f.in']\n",
    "letter_to_int = {'a':0, 'b':1, 'c':2, 'd':3, 'e':4, 'f':5}\n",
    "int_to_letter = {0 : 'a', 1 : 'b', 2 : 'c', 3 : 'd', 4 : 'f', 5 : 'g'}\n",
    "\n",
    "\n",
    "work_dir = os.path.join(os.getcwd(), challenge)\n",
    "filename = os.path.join(work_dir, filenames[letter_to_int[letter]])\n",
    "\n",
    "out_filename_relative = 'out/out_'+letter+'.txt'\n",
    "out_filename = os.path.join(work_dir, out_filename_relative)\n",
    "\n",
    "\n",
    "# Jupyter notebook does not handle absolute paths correctly, so going into relative\n",
    "if not os.path.exists(filename):\n",
    "    print('We are using Jupyter -> relative paths')\n",
    "    filename = filenames[letter_to_int[letter]]\n",
    "    out_filename = out_filename_relative"
   ]
  },
  {
   "cell_type": "code",
   "execution_count": 4,
   "metadata": {},
   "outputs": [],
   "source": [
    "class Building:\n",
    "    \n",
    "    glob_index = 0\n",
    "    \n",
    "    def __init__(self, x: int, y: int, bl: int, bc: int):\n",
    "        self.x = x\n",
    "        self.y = y\n",
    "        self.bl = bl\n",
    "        self.bc = bc\n",
    "        self.index = Building.glob_index\n",
    "        Building.glob_index = Building.glob_index + 1\n",
    "        self.score = bc - bl\n",
    "#         self.score = bc\n",
    "        \n",
    "class Antenna:\n",
    "    \n",
    "    glob_index = 0\n",
    "\n",
    "    def __init__(self, ar: int, ac: int):\n",
    "        self.x = -1\n",
    "        self.y = -1\n",
    "        self.ar = ar\n",
    "        self.ac = ac\n",
    "        self.index = Antenna.glob_index\n",
    "        Antenna.glob_index = Antenna.glob_index + 1\n",
    "#         self.score = ac - ar\n",
    "        self.score = ac\n",
    "\n",
    "    def assignCoord(self, x, y):\n",
    "        self.x = x\n",
    "        self.y = y\n",
    "        \n",
    "    def printAsSolution(self):\n",
    "        return str(self.index) + ' ' + str(self.x) + ' ' + str(self.y)"
   ]
  },
  {
   "cell_type": "code",
   "execution_count": 5,
   "metadata": {},
   "outputs": [],
   "source": [
    "with open(filename, 'r') as file:\n",
    "    buildings = []\n",
    "    antennas = []\n",
    "    antennas_withRadiusMoreTen = []\n",
    "    antennas_withoutRadiusMoreTen = []\n",
    "    for i, line in enumerate(file.readlines()):\n",
    "        if i == 0:\n",
    "            [W, H] = line.strip().split(' ')\n",
    "        elif i == 1:\n",
    "            [N, M, R] = line.strip().split(' ')\n",
    "            input_coords = np.zeros((int(N), 2))\n",
    "        elif i <= int(N) + 1:\n",
    "            # processing buildings\n",
    "            [bx, by, bl, bc] = line.strip().split(' ')\n",
    "            build_temp = Building(int(bx), int(by), int(bl), int(bc))\n",
    "\n",
    "            buildings.append(build_temp)\n",
    "        else:\n",
    "            # processing antennas\n",
    "            [ar, ac] = line.strip().split(' ')\n",
    "\n",
    "            antenna_temp = Antenna(int(ar), int(ac))\n",
    "            if int(ar) >= radius_threshold:\n",
    "                antennas_withRadiusMoreTen.append(antenna_temp)\n",
    "            else:\n",
    "                antennas_withoutRadiusMoreTen.append(antenna_temp)\n",
    "            antennas.append(antenna_temp)"
   ]
  },
  {
   "cell_type": "code",
   "execution_count": 6,
   "metadata": {},
   "outputs": [],
   "source": [
    "# Approach\n",
    "# If num_build = num_antennas (input file c) then let's put an antenna for building\n",
    "# Otherwise:\n",
    "#  1. We assign the antennas with radius <= radius_threshold directly to the best building, so we are sure they are covered\n",
    "#  2. The remaining antennas (with longer radius) are placed at the centroid of the clusters we find with kmeans"
   ]
  },
  {
   "cell_type": "code",
   "execution_count": 7,
   "metadata": {},
   "outputs": [],
   "source": [
    "buildings.sort(key=lambda x: x.score, reverse=True)\n",
    "antennas.sort(key=lambda x: x.ar, reverse=True)\n",
    "\n",
    "# Let's sort the antennas with short range by connection speed since we will place them directly on the building\n",
    "antennas_withoutRadiusMoreTen.sort(key=lambda x: x.ac, reverse=True)\n",
    "# While the remainings by their radius\n",
    "antennas_withRadiusMoreTen.sort(key=lambda x: x.ar, reverse=True)\n",
    "\n",
    "# let's keep track of the points in the map where we put antennas, to not duplicate them\n",
    "points_filled = {}"
   ]
  },
  {
   "cell_type": "code",
   "execution_count": 8,
   "metadata": {},
   "outputs": [],
   "source": [
    "# Let's place the antennas with short range on the \"most important\" buildings\n",
    "out_antennas_withoutRange = []\n",
    "for i in range(len(antennas_withoutRadiusMoreTen)):\n",
    "    # Let's remove the building from the list so it is not considered in subsequent clusterization\n",
    "    choosen_building = buildings.pop(0)\n",
    "    choosen_antenna = antennas_withoutRadiusMoreTen[i]\n",
    "    choosen_antenna.assignCoord(choosen_building.x, choosen_building.y)\n",
    "    points_filled[(choosen_building.x, choosen_building.y)] = 1\n",
    "    out_antennas_withoutRange.append(choosen_antenna)"
   ]
  },
  {
   "cell_type": "code",
   "execution_count": 9,
   "metadata": {},
   "outputs": [],
   "source": [
    "for i, build in enumerate(buildings):\n",
    "    input_coords[i] = [build.x, build.y]"
   ]
  },
  {
   "cell_type": "code",
   "execution_count": 10,
   "metadata": {
    "scrolled": true
   },
   "outputs": [],
   "source": [
    "# We search for as many clusters as many antennas with long range we have. iterations and n_init to be tweaked\n",
    "if len(antennas_withRadiusMoreTen) != 0:\n",
    "    kmeans = KMeans(n_clusters=len(antennas_withRadiusMoreTen), random_state=0, verbose=1, max_iter=25, n_init=3).fit(input_coords)\n",
    "# kmeans.labels_\n",
    "# kmeans.predict([[0, 0], [12, 3]])\n",
    "# kmeans.cluster_centers_"
   ]
  },
  {
   "cell_type": "code",
   "execution_count": 11,
   "metadata": {},
   "outputs": [],
   "source": [
    "# Let's place the antennas with long range into the centroids to which the most important buildings are placed,\n",
    "# paying attention to not place an antenna over another, thus slightly changing the coords\n",
    "out_antennas_withRange = []\n",
    "\n",
    "if len(antennas_withRadiusMoreTen) != 0:\n",
    "    assigned_centroids = {}\n",
    "    for i in range(len(buildings)):\n",
    "        choosen_building = buildings[i]\n",
    "        centroid = kmeans.cluster_centers_[kmeans.labels_[i]]\n",
    "        coord = (int(round(centroid[0], 0)), int(round(centroid[1], 0)))\n",
    "        if kmeans.labels_[i] not in assigned_centroids:\n",
    "            if coord in points_filled:\n",
    "                if (coord[0]+1,coord[1]) not in points_filled:\n",
    "                    coord = (coord[0]+1,coord[1])\n",
    "                elif (coord[0]-1,coord[1]) not in points_filled:\n",
    "                    coord = (coord[0]-1,coord[1])\n",
    "                elif (coord[0],coord[1]+1) not in points_filled:\n",
    "                    coord = (coord[0],coord[1]+1)\n",
    "                elif (coord[0],coord[1]-1) not in points_filled:\n",
    "                    coord = (coord[0],coord[1]-1)\n",
    "                else:\n",
    "                    print('non ho trovato niente')\n",
    "\n",
    "            if coord not in points_filled:\n",
    "                assigned_centroids[kmeans.labels_[i]] = 0\n",
    "                points_filled[coord] = 1\n",
    "                choosen_antenna = antennas_withRadiusMoreTen[len(out_antennas_withRange)]\n",
    "                choosen_antenna.assignCoord(coord[0], coord[1])\n",
    "                out_antennas_withRange.append(choosen_antenna)\n",
    "            else:\n",
    "                pass\n",
    "                print('Ancora già preso')\n",
    "\n",
    "        if len(out_antennas_withRange) == len(antennas_withRadiusMoreTen):\n",
    "            break\n"
   ]
  },
  {
   "cell_type": "code",
   "execution_count": 12,
   "metadata": {},
   "outputs": [],
   "source": [
    "out_string = str(len(out_antennas_withRange) + len(out_antennas_withoutRange)) + '\\n'\n",
    "for antenna in out_antennas_withRange:\n",
    "    out_string += antenna.printAsSolution() + '\\n'\n",
    "for antenna in out_antennas_withoutRange:\n",
    "    out_string += antenna.printAsSolution() + '\\n'\n",
    "out_string = out_string[:-1]"
   ]
  },
  {
   "cell_type": "code",
   "execution_count": 13,
   "metadata": {},
   "outputs": [],
   "source": [
    "# print(out_string)"
   ]
  },
  {
   "cell_type": "code",
   "execution_count": 14,
   "metadata": {},
   "outputs": [],
   "source": [
    "with open(out_filename, 'a') as out:\n",
    "    print(out_string, file = out)"
   ]
  },
  {
   "cell_type": "code",
   "execution_count": null,
   "metadata": {},
   "outputs": [],
   "source": []
  },
  {
   "cell_type": "code",
   "execution_count": null,
   "metadata": {},
   "outputs": [],
   "source": []
  }
 ],
 "metadata": {
  "kernelspec": {
   "display_name": "Python 3",
   "language": "python",
   "name": "python3"
  },
  "language_info": {
   "codemirror_mode": {
    "name": "ipython",
    "version": 3
   },
   "file_extension": ".py",
   "mimetype": "text/x-python",
   "name": "python",
   "nbconvert_exporter": "python",
   "pygments_lexer": "ipython3",
   "version": "3.7.1"
  }
 },
 "nbformat": 4,
 "nbformat_minor": 2
}
